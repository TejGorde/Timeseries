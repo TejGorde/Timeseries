{
 "cells": [
  {
   "cell_type": "markdown",
   "metadata": {},
   "source": [
    "## LSTM"
   ]
  },
  {
   "cell_type": "code",
   "execution_count": 4,
   "metadata": {},
   "outputs": [],
   "source": [
    "import pandas as pd\n",
    "import numpy as np\n",
    "import matplotlib.pyplot as plt\n",
    "%matplotlib inline\n",
    "\n",
    "#https://www.youtube.com/watch?v=QIUxPv5PJOY&list=LLB1ma6lM7qAv2t90Or8_H0g&index=7\n",
    "\n",
    "#https://www.youtube.com/watch?v=h8v9--50mdU&list=LLB1ma6lM7qAv2t90Or8_H0g&index=4\n",
    "\n",
    "#https://www.youtube.com/watch?v=xaIA83x5Icg&list=LLB1ma6lM7qAv2t90Or8_H0g&index=3\n",
    "#https://www.youtube.com/watch?v=d_qX2V9iBeQ&list=LLB1ma6lM7qAv2t90Or8_H0g&index=2"
   ]
  },
  {
   "cell_type": "code",
   "execution_count": 5,
   "metadata": {},
   "outputs": [
    {
     "data": {
      "text/html": [
       "<div>\n",
       "<style scoped>\n",
       "    .dataframe tbody tr th:only-of-type {\n",
       "        vertical-align: middle;\n",
       "    }\n",
       "\n",
       "    .dataframe tbody tr th {\n",
       "        vertical-align: top;\n",
       "    }\n",
       "\n",
       "    .dataframe thead th {\n",
       "        text-align: right;\n",
       "    }\n",
       "</style>\n",
       "<table border=\"1\" class=\"dataframe\">\n",
       "  <thead>\n",
       "    <tr style=\"text-align: right;\">\n",
       "      <th></th>\n",
       "      <th>Date</th>\n",
       "      <th>Open</th>\n",
       "      <th>High</th>\n",
       "      <th>Low</th>\n",
       "      <th>Close</th>\n",
       "      <th>Adj Close</th>\n",
       "    </tr>\n",
       "  </thead>\n",
       "  <tbody>\n",
       "    <tr>\n",
       "      <td>0</td>\n",
       "      <td>5/15/97</td>\n",
       "      <td>2.437500</td>\n",
       "      <td>2.500000</td>\n",
       "      <td>1.927083</td>\n",
       "      <td>1.958333</td>\n",
       "      <td>1.958333</td>\n",
       "    </tr>\n",
       "    <tr>\n",
       "      <td>1</td>\n",
       "      <td>5/16/97</td>\n",
       "      <td>1.968750</td>\n",
       "      <td>1.979167</td>\n",
       "      <td>1.708333</td>\n",
       "      <td>1.729167</td>\n",
       "      <td>1.729167</td>\n",
       "    </tr>\n",
       "    <tr>\n",
       "      <td>2</td>\n",
       "      <td>5/19/97</td>\n",
       "      <td>1.760417</td>\n",
       "      <td>1.770833</td>\n",
       "      <td>1.625000</td>\n",
       "      <td>1.708333</td>\n",
       "      <td>1.708333</td>\n",
       "    </tr>\n",
       "    <tr>\n",
       "      <td>3</td>\n",
       "      <td>5/20/97</td>\n",
       "      <td>1.729167</td>\n",
       "      <td>1.750000</td>\n",
       "      <td>1.635417</td>\n",
       "      <td>1.635417</td>\n",
       "      <td>1.635417</td>\n",
       "    </tr>\n",
       "    <tr>\n",
       "      <td>4</td>\n",
       "      <td>5/21/97</td>\n",
       "      <td>1.635417</td>\n",
       "      <td>1.645833</td>\n",
       "      <td>1.375000</td>\n",
       "      <td>1.427083</td>\n",
       "      <td>1.427083</td>\n",
       "    </tr>\n",
       "  </tbody>\n",
       "</table>\n",
       "</div>"
      ],
      "text/plain": [
       "      Date      Open      High       Low     Close  Adj Close\n",
       "0  5/15/97  2.437500  2.500000  1.927083  1.958333   1.958333\n",
       "1  5/16/97  1.968750  1.979167  1.708333  1.729167   1.729167\n",
       "2  5/19/97  1.760417  1.770833  1.625000  1.708333   1.708333\n",
       "3  5/20/97  1.729167  1.750000  1.635417  1.635417   1.635417\n",
       "4  5/21/97  1.635417  1.645833  1.375000  1.427083   1.427083"
      ]
     },
     "execution_count": 5,
     "metadata": {},
     "output_type": "execute_result"
    }
   ],
   "source": [
    "a= pd.read_csv(\"AMZN.csv\")\n",
    "a.head()"
   ]
  },
  {
   "cell_type": "code",
   "execution_count": 6,
   "metadata": {},
   "outputs": [
    {
     "data": {
      "text/plain": [
       "RangeIndex(start=0, stop=5529, step=1)"
      ]
     },
     "execution_count": 6,
     "metadata": {},
     "output_type": "execute_result"
    }
   ],
   "source": [
    "a.index"
   ]
  },
  {
   "cell_type": "code",
   "execution_count": 7,
   "metadata": {},
   "outputs": [
    {
     "data": {
      "text/plain": [
       "0    5/15/97\n",
       "1    5/16/97\n",
       "2    5/19/97\n",
       "3    5/20/97\n",
       "4    5/21/97\n",
       "Name: Date, dtype: object"
      ]
     },
     "execution_count": 7,
     "metadata": {},
     "output_type": "execute_result"
    }
   ],
   "source": [
    "a['Date'].head()"
   ]
  },
  {
   "cell_type": "code",
   "execution_count": 8,
   "metadata": {},
   "outputs": [
    {
     "data": {
      "text/plain": [
       "DatetimeIndex(['1997-05-15', '1997-05-16', '1997-05-19', '1997-05-20',\n",
       "               '1997-05-21', '1997-05-22', '1997-05-23', '1997-05-27',\n",
       "               '1997-05-28', '1997-05-29',\n",
       "               ...\n",
       "               '2019-04-23', '2019-04-24', '2019-04-25', '2019-04-26',\n",
       "               '2019-04-29', '2019-04-30', '2019-05-01', '2019-05-02',\n",
       "               '2019-05-03', '2019-05-06'],\n",
       "              dtype='datetime64[ns]', name='Date', length=5529, freq=None)"
      ]
     },
     "execution_count": 8,
     "metadata": {},
     "output_type": "execute_result"
    }
   ],
   "source": [
    "#object to covert to datetime obj\n",
    "a.index=pd.to_datetime(a['Date'])\n",
    "a.index"
   ]
  },
  {
   "cell_type": "code",
   "execution_count": 9,
   "metadata": {},
   "outputs": [
    {
     "data": {
      "image/png": "[encoded data removed]",
      "text/plain": [
       "<Figure size 1080x432 with 1 Axes>"
      ]
     },
     "metadata": {
      "needs_background": "light"
     },
     "output_type": "display_data"
    }
   ],
   "source": [
    "#what you can see== amzn stock price has been slowy rising from befroe 2000 to 2016, from almost $0 to $2000\n",
    "a['Adj Close'].plot(kind='line',figsize=(15,6))\n",
    "\n",
    "plt.ylabel('Amazon closing price')\n",
    "plt.xlabel('Year')\n",
    "\n",
    "plt.show()\n",
    "\n",
    "#CLEARLY A TREND , NOT STATIONARY"
   ]
  },
  {
   "cell_type": "code",
   "execution_count": 31,
   "metadata": {},
   "outputs": [
    {
     "data": {
      "text/plain": [
       "<matplotlib.axes._subplots.AxesSubplot at 0x124973d50>"
      ]
     },
     "execution_count": 31,
     "metadata": {},
     "output_type": "execute_result"
    },
    {
     "data": {
      "image/png": "[encoded data removed]",
      "text/plain": [
       "<Figure size 1152x432 with 1 Axes>"
      ]
     },
     "metadata": {
      "needs_background": "light"
     },
     "output_type": "display_data"
    },
    {
     "data": {
      "image/png": "[encoded data removed]",
      "text/plain": [
       "<Figure size 432x288 with 1 Axes>"
      ]
     },
     "metadata": {
      "needs_background": "light"
     },
     "output_type": "display_data"
    }
   ],
   "source": [
    "a.plot(figsize=(16,6))\n",
    "a.plot(style='k.')"
   ]
  },
  {
   "cell_type": "code",
   "execution_count": 32,
   "metadata": {},
   "outputs": [
    {
     "data": {
      "text/plain": [
       "<matplotlib.axes._subplots.AxesSubplot at 0x122b43ad0>"
      ]
     },
     "execution_count": 32,
     "metadata": {},
     "output_type": "execute_result"
    },
    {
     "data": {
      "image/png": "[encoded data removed]",
      "text/plain": [
       "<Figure size 1152x432 with 1 Axes>"
      ]
     },
     "metadata": {
      "needs_background": "light"
     },
     "output_type": "display_data"
    }
   ],
   "source": [
    "a[['Open', 'Low']].plot(figsize=(16,6), color=['green', 'brown'])"
   ]
  },
  {
   "cell_type": "code",
   "execution_count": 33,
   "metadata": {},
   "outputs": [
    {
     "data": {
      "text/plain": [
       "267.630005"
      ]
     },
     "execution_count": 33,
     "metadata": {},
     "output_type": "execute_result"
    }
   ],
   "source": [
    "#access specific records, price on given date\n",
    "a['Adj Close']['5/20/2013']"
   ]
  },
  {
   "cell_type": "code",
   "execution_count": 34,
   "metadata": {},
   "outputs": [],
   "source": [
    "#Time series data assigned at certain point and time, could be second, a day or a minute -Janani Ravi\n"
   ]
  },
  {
   "cell_type": "code",
   "execution_count": 35,
   "metadata": {},
   "outputs": [
    {
     "data": {
      "text/plain": [
       "Date\n",
       "1997-05-31    1.588542\n",
       "1997-06-30    1.537699\n",
       "1997-07-31    2.205493\n",
       "1997-08-31    2.231399\n",
       "1997-09-30    3.492560\n",
       "1997-10-31    4.267437\n",
       "1997-11-30    4.378564\n",
       "1997-12-31    4.563210\n",
       "1998-01-31    4.803906\n",
       "1998-02-28    5.297423\n",
       "Freq: M, Name: Adj Close, dtype: float64"
      ]
     },
     "execution_count": 35,
     "metadata": {},
     "output_type": "execute_result"
    }
   ],
   "source": [
    "#Resampling to sample data monthwise to find avg price per month\n",
    "month_avg=a['Adj Close'].resample('M').mean()\n",
    "month_avg.head(10)\n"
   ]
  },
  {
   "cell_type": "code",
   "execution_count": 36,
   "metadata": {},
   "outputs": [
    {
     "data": {
      "text/plain": [
       "Date\n",
       "2018-08-31    1897.851308\n",
       "2018-09-30    1966.077900\n",
       "2018-10-31    1782.058265\n",
       "2018-11-30    1625.483823\n",
       "2018-12-31    1559.443154\n",
       "2019-01-31    1640.032389\n",
       "2019-02-28    1626.937365\n",
       "2019-03-31    1722.491909\n",
       "2019-04-30    1866.202375\n",
       "2019-05-31    1931.337494\n",
       "Freq: M, Name: Adj Close, dtype: float64"
      ]
     },
     "execution_count": 36,
     "metadata": {},
     "output_type": "execute_result"
    }
   ],
   "source": [
    "month_avg.tail(10)"
   ]
  },
  {
   "cell_type": "code",
   "execution_count": 37,
   "metadata": {},
   "outputs": [
    {
     "data": {
      "text/plain": [
       "Date\n",
       "1997-05-31    1.531250\n",
       "1997-06-30    1.510417\n",
       "1997-07-31    2.276042\n",
       "1997-08-31    2.208333\n",
       "1997-09-30    3.354167\n",
       "1997-10-31    4.020833\n",
       "1997-11-30    4.375000\n",
       "1997-12-31    4.562500\n",
       "1998-01-31    4.825521\n",
       "1998-02-28    5.229167\n",
       "Freq: M, Name: Adj Close, dtype: float64"
      ]
     },
     "execution_count": 37,
     "metadata": {},
     "output_type": "execute_result"
    }
   ],
   "source": [
    "# resampling for median\n",
    "month_median=a['Adj Close'].resample('M').median()\n",
    "month_median.head(10)"
   ]
  },
  {
   "cell_type": "code",
   "execution_count": 38,
   "metadata": {},
   "outputs": [
    {
     "data": {
      "image/png": "[encoded data removed]",
      "text/plain": [
       "<Figure size 1080x432 with 1 Axes>"
      ]
     },
     "metadata": {
      "needs_background": "light"
     },
     "output_type": "display_data"
    }
   ],
   "source": [
    "#plotting median\n",
    "month_median.plot(kind='area',figsize=(15,6))\n",
    "plt.show()"
   ]
  },
  {
   "cell_type": "code",
   "execution_count": 39,
   "metadata": {},
   "outputs": [
    {
     "data": {
      "text/plain": [
       "Date\n",
       "1997-05-15         NaN\n",
       "1997-05-16   -0.229166\n",
       "1997-05-19   -0.020834\n",
       "1997-05-20   -0.072916\n",
       "1997-05-21   -0.208334\n",
       "1997-05-22   -0.031250\n",
       "1997-05-23    0.104167\n",
       "1997-05-27    0.083333\n",
       "1997-05-28   -0.052083\n",
       "1997-05-29   -0.026042\n",
       "Name: Adj Close, dtype: float64"
      ]
     },
     "execution_count": 39,
     "metadata": {},
     "output_type": "execute_result"
    }
   ],
   "source": [
    "#Time series data has a natural order, like starting time and ending time\n",
    "#calculate difference between stock price from one day to another\n",
    "a_diff= a['Adj Close'].diff()\n",
    "a_diff.head(10)\n",
    "#op- first term Nan cause no piror stock"
   ]
  },
  {
   "cell_type": "code",
   "execution_count": 40,
   "metadata": {},
   "outputs": [
    {
     "data": {
      "text/plain": [
       "Date\n",
       "1997-05-15         NaN\n",
       "1997-05-16   -0.117021\n",
       "1997-05-19   -0.012049\n",
       "1997-05-20   -0.042683\n",
       "1997-05-21   -0.127389\n",
       "1997-05-22   -0.021898\n",
       "1997-05-23    0.074627\n",
       "1997-05-27    0.055555\n",
       "1997-05-28   -0.032895\n",
       "1997-05-29   -0.017007\n",
       "Name: Adj Close, dtype: float64"
      ]
     },
     "execution_count": 40,
     "metadata": {},
     "output_type": "execute_result"
    }
   ],
   "source": [
    "#perentage change from one day to another aka RETURNS for stocks\n",
    "a_pct= a['Adj Close'].pct_change()\n",
    "a_pct.head(10)"
   ]
  },
  {
   "cell_type": "code",
   "execution_count": 66,
   "metadata": {},
   "outputs": [
    {
     "data": {
      "text/plain": [
       "Date\n",
       "1997-05-15   NaN\n",
       "1997-05-16   NaN\n",
       "1997-05-19   NaN\n",
       "1997-05-20   NaN\n",
       "1997-05-21   NaN\n",
       "1997-05-22   NaN\n",
       "1997-05-23   NaN\n",
       "1997-05-27   NaN\n",
       "1997-05-28   NaN\n",
       "1997-05-29   NaN\n",
       "Name: Adj Close, dtype: float64"
      ]
     },
     "execution_count": 66,
     "metadata": {},
     "output_type": "execute_result"
    }
   ],
   "source": [
    "#with time series data we can calculate moving averages\n",
    "#where we selest a wondow from our time series data and perform an aggregation such as mean\n",
    "#moving avg of five trading days of stock\n",
    "\n",
    "moving_avg=a_pct.rolling(window=50).mean()    #used amazon returns by pct.rolling\n",
    "moving_avg.head(10)\n",
    "\n",
    "#instead of avg we can also calculate .std(),\n",
    "\n",
    "#op- first five record nan cause first one nan so the avg is nan of window=5"
   ]
  },
  {
   "cell_type": "code",
   "execution_count": 67,
   "metadata": {},
   "outputs": [
    {
     "data": {
      "image/png": "[encoded data removed]",
      "text/plain": [
       "<Figure size 1080x432 with 1 Axes>"
      ]
     },
     "metadata": {
      "needs_background": "light"
     },
     "output_type": "display_data"
    }
   ],
   "source": [
    "# we will plot amazon returns and window 5 average\n",
    "fig= plt.figure(figsize=(15,6))\n",
    "\n",
    "amzn_return= plt.plot(a_pct,color='green',label='Original')\n",
    "amzn_mean= plt.plot(month_avg,color='pink',label='Rolling mean')\n",
    "\n",
    "plt.legend(loc='best')  #labels to the lines box\n",
    "plt.title('Orginal values and 5day rolling mean of AMZN returns')\n",
    "\n",
    "plt.show()\n",
    "\n",
    "#rolling mean gives a better idea of how amazon stock prices changed overtime \n"
   ]
  },
  {
   "cell_type": "markdown",
   "metadata": {},
   "source": [
    "### Date time pandas practise"
   ]
  },
  {
   "cell_type": "code",
   "execution_count": 43,
   "metadata": {
    "scrolled": true
   },
   "outputs": [
    {
     "data": {
      "text/plain": [
       "array([datetime.time(8, 0), datetime.time(8, 30), datetime.time(9, 0),\n",
       "       datetime.time(9, 30), datetime.time(10, 0), datetime.time(10, 30),\n",
       "       datetime.time(11, 0), datetime.time(11, 30), datetime.time(12, 0),\n",
       "       datetime.time(12, 30), datetime.time(13, 0), datetime.time(13, 30),\n",
       "       datetime.time(14, 0), datetime.time(14, 30), datetime.time(15, 0)],\n",
       "      dtype=object)"
      ]
     },
     "execution_count": 43,
     "metadata": {},
     "output_type": "execute_result"
    }
   ],
   "source": [
    "\n",
    "pd.date_range(\"8:00\",\"15:00\", freq=\"30 min\").time"
   ]
  },
  {
   "cell_type": "code",
   "execution_count": 44,
   "metadata": {},
   "outputs": [
    {
     "data": {
      "text/plain": [
       "0   2020-01-01\n",
       "1   2020-01-02\n",
       "2   2020-01-03\n",
       "dtype: datetime64[ns]"
      ]
     },
     "execution_count": 44,
     "metadata": {},
     "output_type": "execute_result"
    }
   ],
   "source": [
    "#days- included in combining timeseries\n",
    "days=pd.Series(pd.date_range('2020-1-1',periods=3,freq='D'))  #list three peroids per day\n",
    "days"
   ]
  },
  {
   "cell_type": "code",
   "execution_count": 45,
   "metadata": {},
   "outputs": [
    {
     "data": {
      "text/plain": [
       "Timestamp('2000-01-02 01:01:01')"
      ]
     },
     "execution_count": 45,
     "metadata": {},
     "output_type": "execute_result"
    }
   ],
   "source": [
    "#pandas time delta object is used to represent difference int the time\n",
    "pd.Timedelta('1day 1hours 1minute 1second')\n",
    "# adding this to 1st jan 2000, we will get 2nd jan 2000 with 01:01:01 timestamp\n",
    "pd.Timestamp('01/01/2000') \\\n",
    "                    + pd.Timedelta('1day 1hours 1minute 1second') "
   ]
  },
  {
   "cell_type": "code",
   "execution_count": 46,
   "metadata": {},
   "outputs": [
    {
     "data": {
      "text/plain": [
       "Timedelta('5 days 18:00:00')"
      ]
     },
     "execution_count": 46,
     "metadata": {},
     "output_type": "execute_result"
    }
   ],
   "source": [
    "pd.Timedelta(days=5,hours=18)"
   ]
  },
  {
   "cell_type": "code",
   "execution_count": 47,
   "metadata": {},
   "outputs": [
    {
     "data": {
      "text/plain": [
       "Timedelta('6 days 20:00:00')"
      ]
     },
     "execution_count": 47,
     "metadata": {},
     "output_type": "execute_result"
    }
   ],
   "source": [
    "#adding two time deltas\n",
    "pd.Timedelta(days=5,hours=18) \\\n",
    "            + pd.Timedelta(days=1,hours=2)"
   ]
  },
  {
   "cell_type": "code",
   "execution_count": 48,
   "metadata": {},
   "outputs": [
    {
     "data": {
      "text/plain": [
       "0   0 days 09:00:00\n",
       "1   1 days 09:00:00\n",
       "2   2 days 09:00:00\n",
       "dtype: timedelta64[ns]"
      ]
     },
     "execution_count": 48,
     "metadata": {},
     "output_type": "execute_result"
    }
   ],
   "source": [
    "#create time series using timedelta\n",
    "#create obj of timeseriesdelata as td\n",
    "#td- included in combining timeseries\n",
    "\n",
    "td= pd.Series([pd.Timedelta(days=i, hours=9) for i in range(3)])\n",
    "td\n"
   ]
  },
  {
   "cell_type": "code",
   "execution_count": 49,
   "metadata": {},
   "outputs": [
    {
     "data": {
      "text/html": [
       "<div>\n",
       "<style scoped>\n",
       "    .dataframe tbody tr th:only-of-type {\n",
       "        vertical-align: middle;\n",
       "    }\n",
       "\n",
       "    .dataframe tbody tr th {\n",
       "        vertical-align: top;\n",
       "    }\n",
       "\n",
       "    .dataframe thead th {\n",
       "        text-align: right;\n",
       "    }\n",
       "</style>\n",
       "<table border=\"1\" class=\"dataframe\">\n",
       "  <thead>\n",
       "    <tr style=\"text-align: right;\">\n",
       "      <th></th>\n",
       "      <th>Days</th>\n",
       "      <th>Delta</th>\n",
       "    </tr>\n",
       "  </thead>\n",
       "  <tbody>\n",
       "    <tr>\n",
       "      <td>0</td>\n",
       "      <td>2020-01-01</td>\n",
       "      <td>0 days 09:00:00</td>\n",
       "    </tr>\n",
       "    <tr>\n",
       "      <td>1</td>\n",
       "      <td>2020-01-02</td>\n",
       "      <td>1 days 09:00:00</td>\n",
       "    </tr>\n",
       "    <tr>\n",
       "      <td>2</td>\n",
       "      <td>2020-01-03</td>\n",
       "      <td>2 days 09:00:00</td>\n",
       "    </tr>\n",
       "  </tbody>\n",
       "</table>\n",
       "</div>"
      ],
      "text/plain": [
       "        Days           Delta\n",
       "0 2020-01-01 0 days 09:00:00\n",
       "1 2020-01-02 1 days 09:00:00\n",
       "2 2020-01-03 2 days 09:00:00"
      ]
     },
     "execution_count": 49,
     "metadata": {},
     "output_type": "execute_result"
    }
   ],
   "source": [
    "#creating time frame combining two series\n",
    "df =pd.DataFrame(dict(Days= days, Delta=td))\n",
    "df"
   ]
  },
  {
   "cell_type": "code",
   "execution_count": 50,
   "metadata": {},
   "outputs": [
    {
     "data": {
      "text/plain": [
       "DatetimeIndex(['2020-01-01 00:00:00', '2020-01-01 00:30:00',\n",
       "               '2020-01-01 01:00:00', '2020-01-01 01:30:00',\n",
       "               '2020-01-01 02:00:00'],\n",
       "              dtype='datetime64[ns]', freq='30T')"
      ]
     },
     "execution_count": 50,
     "metadata": {},
     "output_type": "execute_result"
    }
   ],
   "source": [
    "#indices var assigned to pd.date_range\n",
    "indices=pd.date_range('01-01-2020',periods=5,freq='30T')\n",
    "indices"
   ]
  },
  {
   "cell_type": "code",
   "execution_count": 51,
   "metadata": {},
   "outputs": [
    {
     "data": {
      "text/html": [
       "<div>\n",
       "<style scoped>\n",
       "    .dataframe tbody tr th:only-of-type {\n",
       "        vertical-align: middle;\n",
       "    }\n",
       "\n",
       "    .dataframe tbody tr th {\n",
       "        vertical-align: top;\n",
       "    }\n",
       "\n",
       "    .dataframe thead th {\n",
       "        text-align: right;\n",
       "    }\n",
       "</style>\n",
       "<table border=\"1\" class=\"dataframe\">\n",
       "  <thead>\n",
       "    <tr style=\"text-align: right;\">\n",
       "      <th></th>\n",
       "      <th>A</th>\n",
       "      <th>Value</th>\n",
       "    </tr>\n",
       "  </thead>\n",
       "  <tbody>\n",
       "    <tr>\n",
       "      <td>2020-01-01 00:00:00</td>\n",
       "      <td>A</td>\n",
       "      <td>50</td>\n",
       "    </tr>\n",
       "    <tr>\n",
       "      <td>2020-01-01 00:30:00</td>\n",
       "      <td>B</td>\n",
       "      <td>100</td>\n",
       "    </tr>\n",
       "    <tr>\n",
       "      <td>2020-01-01 01:00:00</td>\n",
       "      <td>C</td>\n",
       "      <td>225</td>\n",
       "    </tr>\n",
       "    <tr>\n",
       "      <td>2020-01-01 01:30:00</td>\n",
       "      <td>D</td>\n",
       "      <td>345</td>\n",
       "    </tr>\n",
       "    <tr>\n",
       "      <td>2020-01-01 02:00:00</td>\n",
       "      <td>E</td>\n",
       "      <td>121</td>\n",
       "    </tr>\n",
       "  </tbody>\n",
       "</table>\n",
       "</div>"
      ],
      "text/plain": [
       "                     A Value\n",
       "2020-01-01 00:00:00  A    50\n",
       "2020-01-01 00:30:00  B   100\n",
       "2020-01-01 01:00:00  C   225\n",
       "2020-01-01 01:30:00  D   345\n",
       "2020-01-01 02:00:00  E   121"
      ]
     },
     "execution_count": 51,
     "metadata": {},
     "output_type": "execute_result"
    }
   ],
   "source": [
    "df=pd.DataFrame({'A':['A','B','C','D','E'],'Value':['50','100','225','345','121']},index=indices)\n",
    "df"
   ]
  },
  {
   "cell_type": "code",
   "execution_count": 52,
   "metadata": {},
   "outputs": [
    {
     "data": {
      "text/html": [
       "<div>\n",
       "<style scoped>\n",
       "    .dataframe tbody tr th:only-of-type {\n",
       "        vertical-align: middle;\n",
       "    }\n",
       "\n",
       "    .dataframe tbody tr th {\n",
       "        vertical-align: top;\n",
       "    }\n",
       "\n",
       "    .dataframe thead th {\n",
       "        text-align: right;\n",
       "    }\n",
       "</style>\n",
       "<table border=\"1\" class=\"dataframe\">\n",
       "  <thead>\n",
       "    <tr style=\"text-align: right;\">\n",
       "      <th></th>\n",
       "      <th>Open</th>\n",
       "      <th>High</th>\n",
       "      <th>Low</th>\n",
       "      <th>Close</th>\n",
       "      <th>Adj Close</th>\n",
       "    </tr>\n",
       "  </thead>\n",
       "  <tbody>\n",
       "    <tr>\n",
       "      <td>count</td>\n",
       "      <td>5529.000000</td>\n",
       "      <td>5529.000000</td>\n",
       "      <td>5529.000000</td>\n",
       "      <td>5529.000000</td>\n",
       "      <td>5529.000000</td>\n",
       "    </tr>\n",
       "    <tr>\n",
       "      <td>mean</td>\n",
       "      <td>277.799880</td>\n",
       "      <td>280.950590</td>\n",
       "      <td>274.278571</td>\n",
       "      <td>277.765295</td>\n",
       "      <td>277.765295</td>\n",
       "    </tr>\n",
       "    <tr>\n",
       "      <td>std</td>\n",
       "      <td>431.384943</td>\n",
       "      <td>435.401154</td>\n",
       "      <td>426.433643</td>\n",
       "      <td>431.130107</td>\n",
       "      <td>431.130107</td>\n",
       "    </tr>\n",
       "    <tr>\n",
       "      <td>min</td>\n",
       "      <td>1.406250</td>\n",
       "      <td>1.447917</td>\n",
       "      <td>1.312500</td>\n",
       "      <td>1.395833</td>\n",
       "      <td>1.395833</td>\n",
       "    </tr>\n",
       "    <tr>\n",
       "      <td>25%</td>\n",
       "      <td>36.680000</td>\n",
       "      <td>37.349998</td>\n",
       "      <td>36.009998</td>\n",
       "      <td>36.650002</td>\n",
       "      <td>36.650002</td>\n",
       "    </tr>\n",
       "    <tr>\n",
       "      <td>50%</td>\n",
       "      <td>77.937500</td>\n",
       "      <td>79.750000</td>\n",
       "      <td>76.290001</td>\n",
       "      <td>78.050003</td>\n",
       "      <td>78.050003</td>\n",
       "    </tr>\n",
       "    <tr>\n",
       "      <td>75%</td>\n",
       "      <td>304.000000</td>\n",
       "      <td>306.700012</td>\n",
       "      <td>300.750000</td>\n",
       "      <td>304.130005</td>\n",
       "      <td>304.130005</td>\n",
       "    </tr>\n",
       "    <tr>\n",
       "      <td>max</td>\n",
       "      <td>2038.109985</td>\n",
       "      <td>2050.500000</td>\n",
       "      <td>2013.000000</td>\n",
       "      <td>2039.510010</td>\n",
       "      <td>2039.510010</td>\n",
       "    </tr>\n",
       "  </tbody>\n",
       "</table>\n",
       "</div>"
      ],
      "text/plain": [
       "              Open         High          Low        Close    Adj Close\n",
       "count  5529.000000  5529.000000  5529.000000  5529.000000  5529.000000\n",
       "mean    277.799880   280.950590   274.278571   277.765295   277.765295\n",
       "std     431.384943   435.401154   426.433643   431.130107   431.130107\n",
       "min       1.406250     1.447917     1.312500     1.395833     1.395833\n",
       "25%      36.680000    37.349998    36.009998    36.650002    36.650002\n",
       "50%      77.937500    79.750000    76.290001    78.050003    78.050003\n",
       "75%     304.000000   306.700012   300.750000   304.130005   304.130005\n",
       "max    2038.109985  2050.500000  2013.000000  2039.510010  2039.510010"
      ]
     },
     "execution_count": 52,
     "metadata": {},
     "output_type": "execute_result"
    }
   ],
   "source": [
    "a.describe()"
   ]
  },
  {
   "cell_type": "code",
   "execution_count": 53,
   "metadata": {},
   "outputs": [
    {
     "data": {
      "text/plain": [
       "33174"
      ]
     },
     "execution_count": 53,
     "metadata": {},
     "output_type": "execute_result"
    }
   ],
   "source": [
    "a.size"
   ]
  },
  {
   "cell_type": "code",
   "execution_count": 63,
   "metadata": {},
   "outputs": [
    {
     "data": {
      "text/html": [
       "<div>\n",
       "<style scoped>\n",
       "    .dataframe tbody tr th:only-of-type {\n",
       "        vertical-align: middle;\n",
       "    }\n",
       "\n",
       "    .dataframe tbody tr th {\n",
       "        vertical-align: top;\n",
       "    }\n",
       "\n",
       "    .dataframe thead th {\n",
       "        text-align: right;\n",
       "    }\n",
       "</style>\n",
       "<table border=\"1\" class=\"dataframe\">\n",
       "  <thead>\n",
       "    <tr style=\"text-align: right;\">\n",
       "      <th></th>\n",
       "      <th>Open</th>\n",
       "      <th>High</th>\n",
       "      <th>Low</th>\n",
       "      <th>Close</th>\n",
       "      <th>Adj Close</th>\n",
       "    </tr>\n",
       "    <tr>\n",
       "      <th>Date</th>\n",
       "      <th></th>\n",
       "      <th></th>\n",
       "      <th></th>\n",
       "      <th></th>\n",
       "      <th></th>\n",
       "    </tr>\n",
       "  </thead>\n",
       "  <tbody>\n",
       "    <tr>\n",
       "      <td>1997-05-15</td>\n",
       "      <td>NaN</td>\n",
       "      <td>NaN</td>\n",
       "      <td>NaN</td>\n",
       "      <td>NaN</td>\n",
       "      <td>NaN</td>\n",
       "    </tr>\n",
       "    <tr>\n",
       "      <td>1997-05-16</td>\n",
       "      <td>NaN</td>\n",
       "      <td>NaN</td>\n",
       "      <td>NaN</td>\n",
       "      <td>NaN</td>\n",
       "      <td>NaN</td>\n",
       "    </tr>\n",
       "    <tr>\n",
       "      <td>1997-05-19</td>\n",
       "      <td>NaN</td>\n",
       "      <td>NaN</td>\n",
       "      <td>NaN</td>\n",
       "      <td>NaN</td>\n",
       "      <td>NaN</td>\n",
       "    </tr>\n",
       "    <tr>\n",
       "      <td>1997-05-20</td>\n",
       "      <td>NaN</td>\n",
       "      <td>NaN</td>\n",
       "      <td>NaN</td>\n",
       "      <td>NaN</td>\n",
       "      <td>NaN</td>\n",
       "    </tr>\n",
       "    <tr>\n",
       "      <td>1997-05-21</td>\n",
       "      <td>NaN</td>\n",
       "      <td>NaN</td>\n",
       "      <td>NaN</td>\n",
       "      <td>NaN</td>\n",
       "      <td>NaN</td>\n",
       "    </tr>\n",
       "    <tr>\n",
       "      <td>1997-05-22</td>\n",
       "      <td>NaN</td>\n",
       "      <td>NaN</td>\n",
       "      <td>NaN</td>\n",
       "      <td>NaN</td>\n",
       "      <td>NaN</td>\n",
       "    </tr>\n",
       "    <tr>\n",
       "      <td>1997-05-23</td>\n",
       "      <td>NaN</td>\n",
       "      <td>NaN</td>\n",
       "      <td>NaN</td>\n",
       "      <td>NaN</td>\n",
       "      <td>NaN</td>\n",
       "    </tr>\n",
       "    <tr>\n",
       "      <td>1997-05-27</td>\n",
       "      <td>NaN</td>\n",
       "      <td>NaN</td>\n",
       "      <td>NaN</td>\n",
       "      <td>NaN</td>\n",
       "      <td>NaN</td>\n",
       "    </tr>\n",
       "    <tr>\n",
       "      <td>1997-05-28</td>\n",
       "      <td>NaN</td>\n",
       "      <td>NaN</td>\n",
       "      <td>NaN</td>\n",
       "      <td>NaN</td>\n",
       "      <td>NaN</td>\n",
       "    </tr>\n",
       "    <tr>\n",
       "      <td>1997-05-29</td>\n",
       "      <td>NaN</td>\n",
       "      <td>NaN</td>\n",
       "      <td>NaN</td>\n",
       "      <td>NaN</td>\n",
       "      <td>NaN</td>\n",
       "    </tr>\n",
       "  </tbody>\n",
       "</table>\n",
       "</div>"
      ],
      "text/plain": [
       "            Open  High  Low  Close  Adj Close\n",
       "Date                                         \n",
       "1997-05-15   NaN   NaN  NaN    NaN        NaN\n",
       "1997-05-16   NaN   NaN  NaN    NaN        NaN\n",
       "1997-05-19   NaN   NaN  NaN    NaN        NaN\n",
       "1997-05-20   NaN   NaN  NaN    NaN        NaN\n",
       "1997-05-21   NaN   NaN  NaN    NaN        NaN\n",
       "1997-05-22   NaN   NaN  NaN    NaN        NaN\n",
       "1997-05-23   NaN   NaN  NaN    NaN        NaN\n",
       "1997-05-27   NaN   NaN  NaN    NaN        NaN\n",
       "1997-05-28   NaN   NaN  NaN    NaN        NaN\n",
       "1997-05-29   NaN   NaN  NaN    NaN        NaN"
      ]
     },
     "execution_count": 63,
     "metadata": {},
     "output_type": "execute_result"
    }
   ],
   "source": [
    "#smoothing of time series analysis, is calculaated by 10 day moving avg\n",
    "data_MA= a.rolling(window=20).mean()\n",
    "data_MA.head(10)"
   ]
  },
  {
   "cell_type": "code",
   "execution_count": 64,
   "metadata": {},
   "outputs": [
    {
     "data": {
      "text/plain": [
       "<matplotlib.axes._subplots.AxesSubplot at 0x125bbe6d0>"
      ]
     },
     "execution_count": 64,
     "metadata": {},
     "output_type": "execute_result"
    },
    {
     "data": {
      "image/png": "[encoded data removed]",
      "text/plain": [
       "<Figure size 1152x432 with 1 Axes>"
      ]
     },
     "metadata": {
      "needs_background": "light"
     },
     "output_type": "display_data"
    }
   ],
   "source": [
    "data_MA.plot(figsize=(16,6))"
   ]
  },
  {
   "cell_type": "code",
   "execution_count": 68,
   "metadata": {},
   "outputs": [
    {
     "data": {
      "text/html": [
       "<div>\n",
       "<style scoped>\n",
       "    .dataframe tbody tr th:only-of-type {\n",
       "        vertical-align: middle;\n",
       "    }\n",
       "\n",
       "    .dataframe tbody tr th {\n",
       "        vertical-align: top;\n",
       "    }\n",
       "\n",
       "    .dataframe thead th {\n",
       "        text-align: right;\n",
       "    }\n",
       "</style>\n",
       "<table border=\"1\" class=\"dataframe\">\n",
       "  <thead>\n",
       "    <tr style=\"text-align: right;\">\n",
       "      <th></th>\n",
       "      <th>Date</th>\n",
       "      <th>Open</th>\n",
       "      <th>High</th>\n",
       "      <th>Low</th>\n",
       "      <th>Close</th>\n",
       "      <th>Adj Close</th>\n",
       "    </tr>\n",
       "    <tr>\n",
       "      <th>Date</th>\n",
       "      <th></th>\n",
       "      <th></th>\n",
       "      <th></th>\n",
       "      <th></th>\n",
       "      <th></th>\n",
       "      <th></th>\n",
       "    </tr>\n",
       "  </thead>\n",
       "  <tbody>\n",
       "    <tr>\n",
       "      <td>1997-05-15</td>\n",
       "      <td>5/15/97</td>\n",
       "      <td>2.437500</td>\n",
       "      <td>2.500000</td>\n",
       "      <td>1.927083</td>\n",
       "      <td>1.958333</td>\n",
       "      <td>1.958333</td>\n",
       "    </tr>\n",
       "    <tr>\n",
       "      <td>1997-05-16</td>\n",
       "      <td>5/16/97</td>\n",
       "      <td>1.968750</td>\n",
       "      <td>1.979167</td>\n",
       "      <td>1.708333</td>\n",
       "      <td>1.729167</td>\n",
       "      <td>1.729167</td>\n",
       "    </tr>\n",
       "    <tr>\n",
       "      <td>1997-05-19</td>\n",
       "      <td>5/19/97</td>\n",
       "      <td>1.760417</td>\n",
       "      <td>1.770833</td>\n",
       "      <td>1.625000</td>\n",
       "      <td>1.708333</td>\n",
       "      <td>1.708333</td>\n",
       "    </tr>\n",
       "    <tr>\n",
       "      <td>1997-05-20</td>\n",
       "      <td>5/20/97</td>\n",
       "      <td>1.729167</td>\n",
       "      <td>1.750000</td>\n",
       "      <td>1.635417</td>\n",
       "      <td>1.635417</td>\n",
       "      <td>1.635417</td>\n",
       "    </tr>\n",
       "    <tr>\n",
       "      <td>1997-05-21</td>\n",
       "      <td>5/21/97</td>\n",
       "      <td>1.635417</td>\n",
       "      <td>1.645833</td>\n",
       "      <td>1.375000</td>\n",
       "      <td>1.427083</td>\n",
       "      <td>1.427083</td>\n",
       "    </tr>\n",
       "    <tr>\n",
       "      <td>...</td>\n",
       "      <td>...</td>\n",
       "      <td>...</td>\n",
       "      <td>...</td>\n",
       "      <td>...</td>\n",
       "      <td>...</td>\n",
       "      <td>...</td>\n",
       "    </tr>\n",
       "    <tr>\n",
       "      <td>2019-04-30</td>\n",
       "      <td>4/30/19</td>\n",
       "      <td>1930.099976</td>\n",
       "      <td>1935.709961</td>\n",
       "      <td>1906.949951</td>\n",
       "      <td>1926.520020</td>\n",
       "      <td>1926.520020</td>\n",
       "    </tr>\n",
       "    <tr>\n",
       "      <td>2019-05-01</td>\n",
       "      <td>5/1/19</td>\n",
       "      <td>1933.089966</td>\n",
       "      <td>1943.640015</td>\n",
       "      <td>1910.550049</td>\n",
       "      <td>1911.520020</td>\n",
       "      <td>1911.520020</td>\n",
       "    </tr>\n",
       "    <tr>\n",
       "      <td>2019-05-02</td>\n",
       "      <td>5/2/19</td>\n",
       "      <td>1913.329956</td>\n",
       "      <td>1921.550049</td>\n",
       "      <td>1881.869995</td>\n",
       "      <td>1900.819946</td>\n",
       "      <td>1900.819946</td>\n",
       "    </tr>\n",
       "    <tr>\n",
       "      <td>2019-05-03</td>\n",
       "      <td>5/3/19</td>\n",
       "      <td>1949.000000</td>\n",
       "      <td>1964.400024</td>\n",
       "      <td>1936.000000</td>\n",
       "      <td>1962.459961</td>\n",
       "      <td>1962.459961</td>\n",
       "    </tr>\n",
       "    <tr>\n",
       "      <td>2019-05-06</td>\n",
       "      <td>5/6/19</td>\n",
       "      <td>1917.979980</td>\n",
       "      <td>1959.000000</td>\n",
       "      <td>1910.500000</td>\n",
       "      <td>1950.550049</td>\n",
       "      <td>1950.550049</td>\n",
       "    </tr>\n",
       "  </tbody>\n",
       "</table>\n",
       "<p>5529 rows × 6 columns</p>\n",
       "</div>"
      ],
      "text/plain": [
       "               Date         Open         High          Low        Close  \\\n",
       "Date                                                                      \n",
       "1997-05-15  5/15/97     2.437500     2.500000     1.927083     1.958333   \n",
       "1997-05-16  5/16/97     1.968750     1.979167     1.708333     1.729167   \n",
       "1997-05-19  5/19/97     1.760417     1.770833     1.625000     1.708333   \n",
       "1997-05-20  5/20/97     1.729167     1.750000     1.635417     1.635417   \n",
       "1997-05-21  5/21/97     1.635417     1.645833     1.375000     1.427083   \n",
       "...             ...          ...          ...          ...          ...   \n",
       "2019-04-30  4/30/19  1930.099976  1935.709961  1906.949951  1926.520020   \n",
       "2019-05-01   5/1/19  1933.089966  1943.640015  1910.550049  1911.520020   \n",
       "2019-05-02   5/2/19  1913.329956  1921.550049  1881.869995  1900.819946   \n",
       "2019-05-03   5/3/19  1949.000000  1964.400024  1936.000000  1962.459961   \n",
       "2019-05-06   5/6/19  1917.979980  1959.000000  1910.500000  1950.550049   \n",
       "\n",
       "              Adj Close  \n",
       "Date                     \n",
       "1997-05-15     1.958333  \n",
       "1997-05-16     1.729167  \n",
       "1997-05-19     1.708333  \n",
       "1997-05-20     1.635417  \n",
       "1997-05-21     1.427083  \n",
       "...                 ...  \n",
       "2019-04-30  1926.520020  \n",
       "2019-05-01  1911.520020  \n",
       "2019-05-02  1900.819946  \n",
       "2019-05-03  1962.459961  \n",
       "2019-05-06  1950.550049  \n",
       "\n",
       "[5529 rows x 6 columns]"
      ]
     },
     "execution_count": 68,
     "metadata": {},
     "output_type": "execute_result"
    }
   ],
   "source": [
    "a"
   ]
  },
  {
   "cell_type": "code",
   "execution_count": 11,
   "metadata": {},
   "outputs": [
    {
     "data": {
      "text/html": [
       "<div>\n",
       "<style scoped>\n",
       "    .dataframe tbody tr th:only-of-type {\n",
       "        vertical-align: middle;\n",
       "    }\n",
       "\n",
       "    .dataframe tbody tr th {\n",
       "        vertical-align: top;\n",
       "    }\n",
       "\n",
       "    .dataframe thead th {\n",
       "        text-align: right;\n",
       "    }\n",
       "</style>\n",
       "<table border=\"1\" class=\"dataframe\">\n",
       "  <thead>\n",
       "    <tr style=\"text-align: right;\">\n",
       "      <th></th>\n",
       "      <th>Date</th>\n",
       "      <th>Open</th>\n",
       "      <th>High</th>\n",
       "      <th>Low</th>\n",
       "      <th>Close</th>\n",
       "      <th>Adj Close</th>\n",
       "      <th>Date</th>\n",
       "      <th>Open</th>\n",
       "      <th>High</th>\n",
       "      <th>Low</th>\n",
       "      <th>Close</th>\n",
       "      <th>Adj Close</th>\n",
       "    </tr>\n",
       "    <tr>\n",
       "      <th>Date</th>\n",
       "      <th></th>\n",
       "      <th></th>\n",
       "      <th></th>\n",
       "      <th></th>\n",
       "      <th></th>\n",
       "      <th></th>\n",
       "      <th></th>\n",
       "      <th></th>\n",
       "      <th></th>\n",
       "      <th></th>\n",
       "      <th></th>\n",
       "      <th></th>\n",
       "    </tr>\n",
       "  </thead>\n",
       "  <tbody>\n",
       "    <tr>\n",
       "      <td>1997-05-15</td>\n",
       "      <td>5/15/97</td>\n",
       "      <td>2.437500</td>\n",
       "      <td>2.500000</td>\n",
       "      <td>1.927083</td>\n",
       "      <td>1.958333</td>\n",
       "      <td>1.958333</td>\n",
       "      <td>NaN</td>\n",
       "      <td>NaN</td>\n",
       "      <td>NaN</td>\n",
       "      <td>NaN</td>\n",
       "      <td>NaN</td>\n",
       "      <td>NaN</td>\n",
       "    </tr>\n",
       "    <tr>\n",
       "      <td>1997-05-16</td>\n",
       "      <td>5/16/97</td>\n",
       "      <td>1.968750</td>\n",
       "      <td>1.979167</td>\n",
       "      <td>1.708333</td>\n",
       "      <td>1.729167</td>\n",
       "      <td>1.729167</td>\n",
       "      <td>5/15/97</td>\n",
       "      <td>2.437500</td>\n",
       "      <td>2.500000</td>\n",
       "      <td>1.927083</td>\n",
       "      <td>1.958333</td>\n",
       "      <td>1.958333</td>\n",
       "    </tr>\n",
       "    <tr>\n",
       "      <td>1997-05-19</td>\n",
       "      <td>5/19/97</td>\n",
       "      <td>1.760417</td>\n",
       "      <td>1.770833</td>\n",
       "      <td>1.625000</td>\n",
       "      <td>1.708333</td>\n",
       "      <td>1.708333</td>\n",
       "      <td>5/16/97</td>\n",
       "      <td>1.968750</td>\n",
       "      <td>1.979167</td>\n",
       "      <td>1.708333</td>\n",
       "      <td>1.729167</td>\n",
       "      <td>1.729167</td>\n",
       "    </tr>\n",
       "    <tr>\n",
       "      <td>1997-05-20</td>\n",
       "      <td>5/20/97</td>\n",
       "      <td>1.729167</td>\n",
       "      <td>1.750000</td>\n",
       "      <td>1.635417</td>\n",
       "      <td>1.635417</td>\n",
       "      <td>1.635417</td>\n",
       "      <td>5/19/97</td>\n",
       "      <td>1.760417</td>\n",
       "      <td>1.770833</td>\n",
       "      <td>1.625000</td>\n",
       "      <td>1.708333</td>\n",
       "      <td>1.708333</td>\n",
       "    </tr>\n",
       "    <tr>\n",
       "      <td>1997-05-21</td>\n",
       "      <td>5/21/97</td>\n",
       "      <td>1.635417</td>\n",
       "      <td>1.645833</td>\n",
       "      <td>1.375000</td>\n",
       "      <td>1.427083</td>\n",
       "      <td>1.427083</td>\n",
       "      <td>5/20/97</td>\n",
       "      <td>1.729167</td>\n",
       "      <td>1.750000</td>\n",
       "      <td>1.635417</td>\n",
       "      <td>1.635417</td>\n",
       "      <td>1.635417</td>\n",
       "    </tr>\n",
       "    <tr>\n",
       "      <td>...</td>\n",
       "      <td>...</td>\n",
       "      <td>...</td>\n",
       "      <td>...</td>\n",
       "      <td>...</td>\n",
       "      <td>...</td>\n",
       "      <td>...</td>\n",
       "      <td>...</td>\n",
       "      <td>...</td>\n",
       "      <td>...</td>\n",
       "      <td>...</td>\n",
       "      <td>...</td>\n",
       "      <td>...</td>\n",
       "    </tr>\n",
       "    <tr>\n",
       "      <td>2019-04-30</td>\n",
       "      <td>4/30/19</td>\n",
       "      <td>1930.099976</td>\n",
       "      <td>1935.709961</td>\n",
       "      <td>1906.949951</td>\n",
       "      <td>1926.520020</td>\n",
       "      <td>1926.520020</td>\n",
       "      <td>4/29/19</td>\n",
       "      <td>1949.000000</td>\n",
       "      <td>1956.339966</td>\n",
       "      <td>1934.089966</td>\n",
       "      <td>1938.430054</td>\n",
       "      <td>1938.430054</td>\n",
       "    </tr>\n",
       "    <tr>\n",
       "      <td>2019-05-01</td>\n",
       "      <td>5/1/19</td>\n",
       "      <td>1933.089966</td>\n",
       "      <td>1943.640015</td>\n",
       "      <td>1910.550049</td>\n",
       "      <td>1911.520020</td>\n",
       "      <td>1911.520020</td>\n",
       "      <td>4/30/19</td>\n",
       "      <td>1930.099976</td>\n",
       "      <td>1935.709961</td>\n",
       "      <td>1906.949951</td>\n",
       "      <td>1926.520020</td>\n",
       "      <td>1926.520020</td>\n",
       "    </tr>\n",
       "    <tr>\n",
       "      <td>2019-05-02</td>\n",
       "      <td>5/2/19</td>\n",
       "      <td>1913.329956</td>\n",
       "      <td>1921.550049</td>\n",
       "      <td>1881.869995</td>\n",
       "      <td>1900.819946</td>\n",
       "      <td>1900.819946</td>\n",
       "      <td>5/1/19</td>\n",
       "      <td>1933.089966</td>\n",
       "      <td>1943.640015</td>\n",
       "      <td>1910.550049</td>\n",
       "      <td>1911.520020</td>\n",
       "      <td>1911.520020</td>\n",
       "    </tr>\n",
       "    <tr>\n",
       "      <td>2019-05-03</td>\n",
       "      <td>5/3/19</td>\n",
       "      <td>1949.000000</td>\n",
       "      <td>1964.400024</td>\n",
       "      <td>1936.000000</td>\n",
       "      <td>1962.459961</td>\n",
       "      <td>1962.459961</td>\n",
       "      <td>5/2/19</td>\n",
       "      <td>1913.329956</td>\n",
       "      <td>1921.550049</td>\n",
       "      <td>1881.869995</td>\n",
       "      <td>1900.819946</td>\n",
       "      <td>1900.819946</td>\n",
       "    </tr>\n",
       "    <tr>\n",
       "      <td>2019-05-06</td>\n",
       "      <td>5/6/19</td>\n",
       "      <td>1917.979980</td>\n",
       "      <td>1959.000000</td>\n",
       "      <td>1910.500000</td>\n",
       "      <td>1950.550049</td>\n",
       "      <td>1950.550049</td>\n",
       "      <td>5/3/19</td>\n",
       "      <td>1949.000000</td>\n",
       "      <td>1964.400024</td>\n",
       "      <td>1936.000000</td>\n",
       "      <td>1962.459961</td>\n",
       "      <td>1962.459961</td>\n",
       "    </tr>\n",
       "  </tbody>\n",
       "</table>\n",
       "<p>5529 rows × 12 columns</p>\n",
       "</div>"
      ],
      "text/plain": [
       "               Date         Open         High          Low        Close  \\\n",
       "Date                                                                      \n",
       "1997-05-15  5/15/97     2.437500     2.500000     1.927083     1.958333   \n",
       "1997-05-16  5/16/97     1.968750     1.979167     1.708333     1.729167   \n",
       "1997-05-19  5/19/97     1.760417     1.770833     1.625000     1.708333   \n",
       "1997-05-20  5/20/97     1.729167     1.750000     1.635417     1.635417   \n",
       "1997-05-21  5/21/97     1.635417     1.645833     1.375000     1.427083   \n",
       "...             ...          ...          ...          ...          ...   \n",
       "2019-04-30  4/30/19  1930.099976  1935.709961  1906.949951  1926.520020   \n",
       "2019-05-01   5/1/19  1933.089966  1943.640015  1910.550049  1911.520020   \n",
       "2019-05-02   5/2/19  1913.329956  1921.550049  1881.869995  1900.819946   \n",
       "2019-05-03   5/3/19  1949.000000  1964.400024  1936.000000  1962.459961   \n",
       "2019-05-06   5/6/19  1917.979980  1959.000000  1910.500000  1950.550049   \n",
       "\n",
       "              Adj Close     Date         Open         High          Low  \\\n",
       "Date                                                                      \n",
       "1997-05-15     1.958333      NaN          NaN          NaN          NaN   \n",
       "1997-05-16     1.729167  5/15/97     2.437500     2.500000     1.927083   \n",
       "1997-05-19     1.708333  5/16/97     1.968750     1.979167     1.708333   \n",
       "1997-05-20     1.635417  5/19/97     1.760417     1.770833     1.625000   \n",
       "1997-05-21     1.427083  5/20/97     1.729167     1.750000     1.635417   \n",
       "...                 ...      ...          ...          ...          ...   \n",
       "2019-04-30  1926.520020  4/29/19  1949.000000  1956.339966  1934.089966   \n",
       "2019-05-01  1911.520020  4/30/19  1930.099976  1935.709961  1906.949951   \n",
       "2019-05-02  1900.819946   5/1/19  1933.089966  1943.640015  1910.550049   \n",
       "2019-05-03  1962.459961   5/2/19  1913.329956  1921.550049  1881.869995   \n",
       "2019-05-06  1950.550049   5/3/19  1949.000000  1964.400024  1936.000000   \n",
       "\n",
       "                  Close    Adj Close  \n",
       "Date                                  \n",
       "1997-05-15          NaN          NaN  \n",
       "1997-05-16     1.958333     1.958333  \n",
       "1997-05-19     1.729167     1.729167  \n",
       "1997-05-20     1.708333     1.708333  \n",
       "1997-05-21     1.635417     1.635417  \n",
       "...                 ...          ...  \n",
       "2019-04-30  1938.430054  1938.430054  \n",
       "2019-05-01  1926.520020  1926.520020  \n",
       "2019-05-02  1911.520020  1911.520020  \n",
       "2019-05-03  1900.819946  1900.819946  \n",
       "2019-05-06  1962.459961  1962.459961  \n",
       "\n",
       "[5529 rows x 12 columns]"
      ]
     },
     "execution_count": 11,
     "metadata": {},
     "output_type": "execute_result"
    }
   ],
   "source": [
    "#now with this timeseries we will go ahead and create the naive model\n",
    "#by shifting\n",
    "a_base=pd.concat([a,a.shift(1)],axis=1)\n",
    "a_base"
   ]
  },
  {
   "cell_type": "code",
   "execution_count": 14,
   "metadata": {},
   "outputs": [],
   "source": [
    "a_base.columns=['a_Date', 'a_Open', 'a_High', 'a_Low', 'a_Close', 'a_Adj Close', 's_Date', 's_Open',\n",
    "       's_High', 's_Low', 's_Close', 's_Adj Close']"
   ]
  },
  {
   "cell_type": "code",
   "execution_count": null,
   "metadata": {},
   "outputs": [],
   "source": []
  }
 ],
 "metadata": {
  "kernelspec": {
   "display_name": "Python 3",
   "language": "python",
   "name": "python3"
  },
  "language_info": {
   "codemirror_mode": {
    "name": "ipython",
    "version": 3
   },
   "file_extension": ".py",
   "mimetype": "text/x-python",
   "name": "python",
   "nbconvert_exporter": "python",
   "pygments_lexer": "ipython3",
   "version": "3.8.8"
  }
 },
 "nbformat": 4,
 "nbformat_minor": 4
}
